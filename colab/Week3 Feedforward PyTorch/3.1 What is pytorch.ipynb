{
  "cells": [
    {
      "cell_type": "markdown",
      "metadata": {
        "id": "view-in-github",
        "colab_type": "text"
      },
      "source": [
        "<a href=\"https://colab.research.google.com/github/xuchef/dtu-dl/blob/colab/colab/Week3%20Feedforward%20PyTorch/3.1%20What%20is%20pytorch.ipynb\" target=\"_parent\"><img src=\"https://colab.research.google.com/assets/colab-badge.svg\" alt=\"Open In Colab\"/></a>"
      ]
    },
    {
      "cell_type": "markdown",
      "metadata": {
        "id": "PdNWmFFIofaU"
      },
      "source": [
        "# Credits\n",
        "\n",
        "This is heavily based on https://github.com/pytorch/tutorials"
      ]
    },
    {
      "cell_type": "markdown",
      "metadata": {
        "id": "ODbTyA4jofaV"
      },
      "source": [
        "# What is PyTorch?\n",
        "\n",
        "> **NOTE** In the last part of this lab cuda is used.\n",
        "\n",
        "\n",
        "PyTorch a Python based scientific computing package targeted at two sets of\n",
        "audiences:\n",
        "-  A replacement for numpy to use the power of GPUs\n",
        "-  a deep learning research platform that provides maximum flexibility and speed\n"
      ]
    },
    {
      "cell_type": "markdown",
      "metadata": {
        "id": "0QP7LVOdofaV"
      },
      "source": [
        "# Getting Started\n",
        "\n",
        "In this lab you will get a quick start on what pytorch is and how to use it.\n",
        "\n",
        "## 1. Tensors\n",
        "\n",
        "Tensors are similar to numpy’s ndarrays, with the addition being that\n",
        "Tensors can also be used on a GPU to accelerate computing."
      ]
    },
    {
      "cell_type": "code",
      "execution_count": 2,
      "metadata": {
        "id": "HArtXMAeofaV"
      },
      "outputs": [],
      "source": [
        "import torch"
      ]
    },
    {
      "cell_type": "markdown",
      "metadata": {
        "id": "CztOERNHofaV"
      },
      "source": [
        "Construct a $5\\times 3$ matrix, uninitialized"
      ]
    },
    {
      "cell_type": "code",
      "execution_count": 3,
      "metadata": {
        "scrolled": false,
        "colab": {
          "base_uri": "https://localhost:8080/"
        },
        "id": "T3DkJAzeofaV",
        "outputId": "db51254e-1759-47dc-ced0-51d5c65071e1"
      },
      "outputs": [
        {
          "output_type": "stream",
          "name": "stdout",
          "text": [
            "tensor([[-7.6276e+03,  4.5860e-41, -7.6276e+03],\n",
            "        [ 4.5860e-41,  0.0000e+00,  0.0000e+00],\n",
            "        [ 0.0000e+00,  0.0000e+00,  0.0000e+00],\n",
            "        [ 4.2886e-35,  1.5625e-39,  0.0000e+00],\n",
            "        [ 4.5895e-35,  2.3822e-44,  0.0000e+00]])\n"
          ]
        }
      ],
      "source": [
        "x = torch.Tensor(5, 3)\n",
        "print(x)"
      ]
    },
    {
      "cell_type": "markdown",
      "metadata": {
        "id": "dlFMfFDSofaV"
      },
      "source": [
        "Construct a randomly initialized matrix"
      ]
    },
    {
      "cell_type": "code",
      "execution_count": 4,
      "metadata": {
        "colab": {
          "base_uri": "https://localhost:8080/"
        },
        "id": "0bLLr_cHofaW",
        "outputId": "1a4c4412-e3e5-4934-8c72-34398fbcae88"
      },
      "outputs": [
        {
          "output_type": "stream",
          "name": "stdout",
          "text": [
            "tensor([[0.1250, 0.8479, 0.2886],\n",
            "        [0.6565, 0.1925, 0.1695],\n",
            "        [0.7201, 0.5622, 0.4628],\n",
            "        [0.7636, 0.8651, 0.9498],\n",
            "        [0.2673, 0.7678, 0.4250]])\n"
          ]
        }
      ],
      "source": [
        "x = torch.rand(5, 3)\n",
        "print(x)"
      ]
    },
    {
      "cell_type": "markdown",
      "metadata": {
        "id": "7PlY7b0BofaW"
      },
      "source": [
        "Get its size"
      ]
    },
    {
      "cell_type": "code",
      "execution_count": 5,
      "metadata": {
        "colab": {
          "base_uri": "https://localhost:8080/"
        },
        "id": "ecUBnGpsofaW",
        "outputId": "343bc095-b512-4973-a33c-3e2512dd5bfe"
      },
      "outputs": [
        {
          "output_type": "stream",
          "name": "stdout",
          "text": [
            "torch.Size([5, 3])\n"
          ]
        }
      ],
      "source": [
        "print(x.size())"
      ]
    },
    {
      "cell_type": "markdown",
      "metadata": {
        "id": "cCNjHjuIofaW"
      },
      "source": [
        "**NOTE**: `torch.Size` is in fact a tuple, so it supports the same operations that a tuple supports."
      ]
    },
    {
      "cell_type": "code",
      "execution_count": 6,
      "metadata": {
        "colab": {
          "base_uri": "https://localhost:8080/"
        },
        "id": "2S4CeIEkofaW",
        "outputId": "358f86dd-9f4a-4355-ae20-0a0bbb16342a"
      },
      "outputs": [
        {
          "output_type": "stream",
          "name": "stdout",
          "text": [
            "tensor([[0.1250, 0.8479, 0.2886],\n",
            "        [2.0000, 2.0000, 2.0000],\n",
            "        [2.0000, 2.0000, 2.0000],\n",
            "        [0.7636, 0.8651, 0.9498],\n",
            "        [0.2673, 0.7678, 0.4250]])\n"
          ]
        }
      ],
      "source": [
        "x[1:3] = 2\n",
        "print(x)"
      ]
    },
    {
      "cell_type": "markdown",
      "metadata": {
        "id": "Le7A_SnKofaW"
      },
      "source": [
        "# Assignment\n",
        "\n",
        "Make use of the pytorch docs <http://pytorch.org/docs/torch>\n",
        "1. Make a tensor of size (2, 17)\n",
        "2. Make a torch.FloatTensor of size (3, 1)\n",
        "3. Make a torch.LongTensor of size (5, 2, 1)\n",
        "  - fill the entire tensor with 7s\n",
        "4. Make a torch.ByteTensor of size (5,)\n",
        "  - fill the middle 3 indices with ones such that it records [0, 1, 1, 1, 0]"
      ]
    },
    {
      "cell_type": "markdown",
      "metadata": {
        "id": "ZUmf3dxXofaW"
      },
      "source": [
        "## 2. Operations\n",
        "There are multiple syntaxes for operations. Let's see addition as an example:\n",
        "\n",
        "### 2.1 Addition: syntax 1"
      ]
    },
    {
      "cell_type": "code",
      "execution_count": 7,
      "metadata": {
        "colab": {
          "base_uri": "https://localhost:8080/"
        },
        "id": "WKuKDvwwofaW",
        "outputId": "2e137b07-86d9-415d-d0e9-c2cce2211b9c"
      },
      "outputs": [
        {
          "output_type": "stream",
          "name": "stdout",
          "text": [
            "tensor([[0.7969, 1.3234, 0.9429],\n",
            "        [2.5987, 2.9139, 2.1148],\n",
            "        [2.4257, 2.2594, 2.7035],\n",
            "        [0.9982, 1.8564, 1.8825],\n",
            "        [0.9244, 1.4697, 1.1354]])\n"
          ]
        }
      ],
      "source": [
        "y = torch.rand(5, 3)\n",
        "print(x + y)"
      ]
    },
    {
      "cell_type": "markdown",
      "metadata": {
        "id": "b2iGy2jKofaW"
      },
      "source": [
        "### 2.2 Addition: syntax 2"
      ]
    },
    {
      "cell_type": "code",
      "execution_count": 8,
      "metadata": {
        "colab": {
          "base_uri": "https://localhost:8080/"
        },
        "id": "cM1nqLmrofaW",
        "outputId": "d326869f-e2c1-4831-8a49-1fc553f98ee8"
      },
      "outputs": [
        {
          "output_type": "stream",
          "name": "stdout",
          "text": [
            "tensor([[0.7969, 1.3234, 0.9429],\n",
            "        [2.5987, 2.9139, 2.1148],\n",
            "        [2.4257, 2.2594, 2.7035],\n",
            "        [0.9982, 1.8564, 1.8825],\n",
            "        [0.9244, 1.4697, 1.1354]])\n"
          ]
        }
      ],
      "source": [
        "print(torch.add(x, y))"
      ]
    },
    {
      "cell_type": "markdown",
      "metadata": {
        "id": "rgO9PuVSofaW"
      },
      "source": [
        "### 2.3 Addition: giving an output tensor"
      ]
    },
    {
      "cell_type": "code",
      "execution_count": 9,
      "metadata": {
        "colab": {
          "base_uri": "https://localhost:8080/"
        },
        "id": "ecNfAO5IofaW",
        "outputId": "bb667e64-1065-4be6-888d-112ed7a61d5a"
      },
      "outputs": [
        {
          "output_type": "stream",
          "name": "stdout",
          "text": [
            "tensor([[0.7969, 1.3234, 0.9429],\n",
            "        [2.5987, 2.9139, 2.1148],\n",
            "        [2.4257, 2.2594, 2.7035],\n",
            "        [0.9982, 1.8564, 1.8825],\n",
            "        [0.9244, 1.4697, 1.1354]])\n"
          ]
        }
      ],
      "source": [
        "result = torch.Tensor(5, 3)\n",
        "torch.add(x, y, out=result)\n",
        "print(result)"
      ]
    },
    {
      "cell_type": "markdown",
      "metadata": {
        "id": "ihA4CzYaofaW"
      },
      "source": [
        "### 2.4 Addition: in-place\n",
        "\n",
        "adds `x` to `y`"
      ]
    },
    {
      "cell_type": "code",
      "execution_count": 10,
      "metadata": {
        "colab": {
          "base_uri": "https://localhost:8080/"
        },
        "id": "HAdse3lpofaW",
        "outputId": "af3bbc36-b593-421e-d5c5-e6be72432223"
      },
      "outputs": [
        {
          "output_type": "stream",
          "name": "stdout",
          "text": [
            "tensor([[0.7969, 1.3234, 0.9429],\n",
            "        [2.5987, 2.9139, 2.1148],\n",
            "        [2.4257, 2.2594, 2.7035],\n",
            "        [0.9982, 1.8564, 1.8825],\n",
            "        [0.9244, 1.4697, 1.1354]])\n"
          ]
        }
      ],
      "source": [
        "y.add_(x)\n",
        "print(y)"
      ]
    },
    {
      "cell_type": "markdown",
      "metadata": {
        "id": "tdattejXofaW"
      },
      "source": [
        "**NOTE**: Any operation that mutates a tensor in-place is post-fixed with an `_`. For example: `x.copy_(y)`, `x.t_()`, will change `x`."
      ]
    },
    {
      "cell_type": "markdown",
      "metadata": {
        "id": "faWMp08rofaW"
      },
      "source": [
        "You can use standard numpy-like indexing with all bells and whistles!"
      ]
    },
    {
      "cell_type": "code",
      "execution_count": 11,
      "metadata": {
        "colab": {
          "base_uri": "https://localhost:8080/"
        },
        "id": "h_lXSnIlofaW",
        "outputId": "60bb9955-c6c2-4c71-94ec-1b213b57c462"
      },
      "outputs": [
        {
          "output_type": "stream",
          "name": "stdout",
          "text": [
            "tensor([0.8479, 2.0000, 2.0000, 0.8651, 0.7678])\n"
          ]
        }
      ],
      "source": [
        "print(x[:, 1])"
      ]
    },
    {
      "cell_type": "markdown",
      "metadata": {
        "id": "IzSUkXXdofaX"
      },
      "source": [
        "**Read later**: 100+ Tensor operations, including transposing, indexing, slicing, mathematical operations, linear algebra, random numbers, etc are described here <http://pytorch.org/docs/torch>"
      ]
    },
    {
      "cell_type": "markdown",
      "metadata": {
        "id": "MM2YKb3zofaX"
      },
      "source": [
        "# Assignment\n",
        "\n",
        "1. multiplication of two tensors (see [torch.Tensor.mul](http://pytorch.org/docs/master/tensors.html#torch.Tensor.mul))\n",
        "2. do the same, but inplace\n",
        "3. division of two tensors (see [torch.Tensor.div](http://pytorch.org/docs/master/tensors.html#torch.Tensor.div))\n",
        "4. perform a matrix multiplication of two tensors of size (2, 4) and (4, 2)"
      ]
    },
    {
      "cell_type": "markdown",
      "metadata": {
        "id": "Mfh10fUzofaX"
      },
      "source": [
        "## 3. Numpy Bridge\n",
        "\n",
        "Converting a torch Tensor to a numpy array and vice versa is a breeze.\n",
        "\n",
        "The torch Tensor and numpy array will share their underlying memory locations, and changing one will change the other.\n",
        "\n",
        "### 3.1 Converting torch Tensor to numpy Array"
      ]
    },
    {
      "cell_type": "code",
      "execution_count": 12,
      "metadata": {
        "colab": {
          "base_uri": "https://localhost:8080/"
        },
        "id": "iY0DArU2ofaX",
        "outputId": "0d9b95cc-357f-4319-b20d-97b5f56c3d6d"
      },
      "outputs": [
        {
          "output_type": "stream",
          "name": "stdout",
          "text": [
            "tensor([1., 1., 1., 1., 1.])\n"
          ]
        }
      ],
      "source": [
        "a = torch.ones(5)\n",
        "print(a)"
      ]
    },
    {
      "cell_type": "code",
      "execution_count": 13,
      "metadata": {
        "colab": {
          "base_uri": "https://localhost:8080/"
        },
        "id": "1laVOio4ofaX",
        "outputId": "7db0c33e-781e-48f9-d49f-40d3968be9a2"
      },
      "outputs": [
        {
          "output_type": "stream",
          "name": "stdout",
          "text": [
            "[1. 1. 1. 1. 1.]\n"
          ]
        }
      ],
      "source": [
        "b = a.numpy()\n",
        "print(b)"
      ]
    },
    {
      "cell_type": "markdown",
      "metadata": {
        "id": "hkZv2faoofaX"
      },
      "source": [
        "See how the numpy array changed in value: the `numpy()` method provides a *view* of the original tensor, not a copy."
      ]
    },
    {
      "cell_type": "code",
      "execution_count": 14,
      "metadata": {
        "colab": {
          "base_uri": "https://localhost:8080/"
        },
        "id": "z2k_jS6MofaX",
        "outputId": "2c3a559f-2168-488b-9c42-47adad052f1a"
      },
      "outputs": [
        {
          "output_type": "stream",
          "name": "stdout",
          "text": [
            "tensor([2., 2., 2., 2., 2.])\n",
            "[2. 2. 2. 2. 2.]\n"
          ]
        }
      ],
      "source": [
        "a.add_(1)\n",
        "print(a)\n",
        "print(b)"
      ]
    },
    {
      "cell_type": "markdown",
      "metadata": {
        "id": "0rvDal4VofaX"
      },
      "source": [
        "### 3.2 Converting numpy Array to torch Tensor\n",
        "\n",
        "See how changing the np array changed the torch Tensor automatically"
      ]
    },
    {
      "cell_type": "code",
      "execution_count": 15,
      "metadata": {
        "colab": {
          "base_uri": "https://localhost:8080/"
        },
        "id": "ULUfN1quofaX",
        "outputId": "071577d5-a5fa-45a1-9b3f-4a0256975b99"
      },
      "outputs": [
        {
          "output_type": "stream",
          "name": "stdout",
          "text": [
            "[2. 2. 2. 2. 2.]\n",
            "tensor([2., 2., 2., 2., 2.], dtype=torch.float64)\n"
          ]
        }
      ],
      "source": [
        "import numpy as np\n",
        "a = np.ones(5)\n",
        "b = torch.from_numpy(a)\n",
        "np.add(a, 1, out=a)\n",
        "print(a)\n",
        "print(b)"
      ]
    },
    {
      "cell_type": "markdown",
      "metadata": {
        "id": "9loIxdrqofaX"
      },
      "source": [
        "# Assignment\n",
        "\n",
        "1. create a tensor of size (5, 2) containing ones\n",
        "2. now convert it to a NumPy array\n",
        "3. now convert it back to a torch tensor\n",
        "\n",
        "All the Tensors on the CPU except a CharTensor support converting to NumPy and back."
      ]
    },
    {
      "cell_type": "markdown",
      "metadata": {
        "id": "dGdSu8fVofaX"
      },
      "source": [
        "## 4 CUDA Tensors\n",
        "\n",
        "Tensors can be moved onto GPU using the `.cuda` function.\n",
        "This is not necessary, but check the `README.md` for details on how to use a GPU with docker."
      ]
    },
    {
      "cell_type": "code",
      "execution_count": 16,
      "metadata": {
        "colab": {
          "base_uri": "https://localhost:8080/"
        },
        "id": "dwe1OW-tofaX",
        "outputId": "2fae46dc-1e99-4e0b-998d-cf3ed3c24331"
      },
      "outputs": [
        {
          "output_type": "stream",
          "name": "stdout",
          "text": [
            "tensor([[0.1250, 0.8479, 0.2886],\n",
            "        [2.0000, 2.0000, 2.0000],\n",
            "        [2.0000, 2.0000, 2.0000],\n",
            "        [0.7636, 0.8651, 0.9498],\n",
            "        [0.2673, 0.7678, 0.4250]], device='cuda:0')\n",
            "tensor([[0.7969, 1.3234, 0.9429],\n",
            "        [2.5987, 2.9139, 2.1148],\n",
            "        [2.4257, 2.2594, 2.7035],\n",
            "        [0.9982, 1.8564, 1.8825],\n",
            "        [0.9244, 1.4697, 1.1354]], device='cuda:0')\n",
            "tensor([[0.9219, 2.1713, 1.2315],\n",
            "        [4.5987, 4.9139, 4.1148],\n",
            "        [4.4257, 4.2594, 4.7035],\n",
            "        [1.7618, 2.7216, 2.8324],\n",
            "        [1.1917, 2.2374, 1.5604]], device='cuda:0')\n"
          ]
        }
      ],
      "source": [
        "# let us run this cell only if CUDA is available\n",
        "if torch.cuda.is_available():\n",
        "    x = x.cuda()\n",
        "    y = y.cuda()\n",
        "    z = x + y\n",
        "    # Notice that the tensors are now of type torch.cuda.FloatTensor (notice the cuda in there)\n",
        "    # This is meant as a tensor to be run on the GPU.\n",
        "    # The .cuda() does this to any parameter it is applied to.\n",
        "    print(x)\n",
        "    print(y)\n",
        "    print(z)\n",
        "else:\n",
        "    print(\"CUDA not available on your machine.\")"
      ]
    }
  ],
  "metadata": {
    "kernelspec": {
      "display_name": "Python 3",
      "name": "python3"
    },
    "language_info": {
      "codemirror_mode": {
        "name": "ipython",
        "version": 3
      },
      "file_extension": ".py",
      "mimetype": "text/x-python",
      "name": "python",
      "nbconvert_exporter": "python",
      "pygments_lexer": "ipython3",
      "version": "3.8.12"
    },
    "colab": {
      "provenance": [],
      "gpuType": "T4",
      "include_colab_link": true
    },
    "accelerator": "GPU"
  },
  "nbformat": 4,
  "nbformat_minor": 0
}